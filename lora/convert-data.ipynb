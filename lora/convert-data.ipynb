{
 "cells": [
  {
   "cell_type": "code",
   "execution_count": 1,
   "metadata": {},
   "outputs": [],
   "source": [
    "import json\n",
    "\n",
    "folder_input='./my-data-chat/'\n",
    "folder_output='./my-data-text/'\n",
    "names=['test', 'train', 'valid']"
   ]
  },
  {
   "cell_type": "code",
   "execution_count": 3,
   "metadata": {},
   "outputs": [],
   "source": [
    "for name in names:\n",
    "    with open(folder_input + name + '.jsonl', 'r') as json_file:\n",
    "        json_list = list(json_file)\n",
    "    with open(folder_output + name + '.jsonl', 'w') as outfile:\n",
    "        for json_str in json_list:\n",
    "            result = json.loads(json_str)\n",
    "            message = result['messages']\n",
    "            entry = {\n",
    "                \"text\": message[0]['content'] + '\\nUser:' + message[1]['content'] + '\\nAssistant:' + message[2]['content']\n",
    "            }\n",
    "            json.dump(entry, outfile)\n",
    "            outfile.write('\\n')"
   ]
  }
 ],
 "metadata": {
  "kernelspec": {
   "display_name": "Python 3",
   "language": "python",
   "name": "python3"
  },
  "language_info": {
   "codemirror_mode": {
    "name": "ipython",
    "version": 3
   },
   "file_extension": ".py",
   "mimetype": "text/x-python",
   "name": "python",
   "nbconvert_exporter": "python",
   "pygments_lexer": "ipython3",
   "version": "3.9.6"
  }
 },
 "nbformat": 4,
 "nbformat_minor": 2
}
